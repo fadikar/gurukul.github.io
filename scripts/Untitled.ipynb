{
 "cells": [
  {
   "cell_type": "code",
   "execution_count": 1,
   "metadata": {
    "collapsed": true
   },
   "outputs": [],
   "source": [
    "from gen_posts import *"
   ]
  },
  {
   "cell_type": "code",
   "execution_count": 2,
   "metadata": {},
   "outputs": [],
   "source": [
    "def modify_template(file_to_modify, string2find, replace_value, outfile):\n",
    "    \n",
    "    # Read in the file\n",
    "    with open(file_to_modify, 'r') as file:\n",
    "        filedata = file.read()\n",
    "        \n",
    "    # Replace the target string\n",
    "    for i in range(len(string2find)):\n",
    "        filedata = filedata.replace(string2find[i], str(replace_value[i]))\n",
    "        \n",
    "    # Write the file out\n",
    "    with open(outfile, 'w') as file:\n",
    "        file.write(filedata)"
   ]
  },
  {
   "cell_type": "code",
   "execution_count": 3,
   "metadata": {},
   "outputs": [],
   "source": [
    "d = read_file('../blog_posts/raw/undone/temp_post.txt')"
   ]
  },
  {
   "cell_type": "code",
   "execution_count": 4,
   "metadata": {
    "scrolled": true
   },
   "outputs": [
    {
     "data": {
      "text/plain": [
       "['\\n',\n",
       " 'Please help ourselves to relive those beautiful 3 years by contributing our\\n',\n",
       " ' thoughts, feelings, memories to this website, in whichever medium you would like. This website is still under construction, but it should not stop us from sharing any content.[P]\\n',\n",
       " '\\n',\n",
       " 'solving paragraph issue.\\n']"
      ]
     },
     "execution_count": 4,
     "metadata": {},
     "output_type": "execute_result"
    }
   ],
   "source": [
    "# create new post\n",
    "\n",
    "d['post']"
   ]
  },
  {
   "cell_type": "code",
   "execution_count": 13,
   "metadata": {},
   "outputs": [],
   "source": [
    "modify_template('post_template.html', ['TITLE', 'AUTHOR', 'CONTENT'], ['haato se haat ..', 'Mahaguru',b], '../blog_posts/html/temp_blog.html')"
   ]
  },
  {
   "cell_type": "code",
   "execution_count": 12,
   "metadata": {},
   "outputs": [
    {
     "name": "stdout",
     "output_type": "stream",
     "text": [
      "Please help ourselves to relive those beautiful 3 years by contributing our thoughts, feelings, memories to this website, in whichever medium you would like. This website is still under construction, but it should not stop us from sharing any content.</p> \n",
      " <p>solving paragraph issue.\n"
     ]
    }
   ],
   "source": [
    "b = ''\n",
    "for i in range(len(d['post'])):\n",
    "    a = d['post'][i].strip('\\n')\n",
    "    if '[P]' in a:\n",
    "        b = b + a.strip('[P]') + '</p> \\n <p>'\n",
    "    else:\n",
    "        b = b + a\n",
    "    \n",
    "print b"
   ]
  }
 ],
 "metadata": {
  "kernelspec": {
   "display_name": "Python 2",
   "language": "python",
   "name": "python2"
  },
  "language_info": {
   "codemirror_mode": {
    "name": "ipython",
    "version": 2
   },
   "file_extension": ".py",
   "mimetype": "text/x-python",
   "name": "python",
   "nbconvert_exporter": "python",
   "pygments_lexer": "ipython2",
   "version": "2.7.13"
  }
 },
 "nbformat": 4,
 "nbformat_minor": 2
}
